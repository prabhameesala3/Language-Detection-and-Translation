{
 "cells": [
  {
   "cell_type": "code",
   "execution_count": 1,
   "id": "ac466a73-f640-4f7e-99e9-c439c14e32c3",
   "metadata": {},
   "outputs": [
    {
     "name": "stdout",
     "output_type": "stream",
     "text": [
      "Bonjour le monde\n"
     ]
    }
   ],
   "source": [
    "from googletrans import Translator, LANGUAGES\n",
    "translator = Translator()\n",
    "\n",
    "translated = translator.translate(\"Hello world\", dest='fr')\n",
    "print(translated.text)"
   ]
  },
  {
   "cell_type": "code",
   "execution_count": 2,
   "id": "414e5fb6-78c9-46b1-8933-f76c30d56515",
   "metadata": {},
   "outputs": [
    {
     "name": "stdout",
     "output_type": "stream",
     "text": [
      "Some available languages:\n",
      "af: afrikaans\n",
      "sq: albanian\n",
      "am: amharic\n",
      "ar: arabic\n",
      "hy: armenian\n",
      "az: azerbaijani\n",
      "eu: basque\n",
      "be: belarusian\n",
      "bn: bengali\n",
      "bs: bosnian\n"
     ]
    }
   ],
   "source": [
    "# Import required modules\n",
    "from langdetect import detect\n",
    "from googletrans import Translator, LANGUAGES\n",
    "\n",
    "# Initialize translator\n",
    "translator = Translator()\n",
    "\n",
    "# Print a few languages for reference\n",
    "print(\"Some available languages:\")\n",
    "for i, (code, name) in enumerate(LANGUAGES.items()):\n",
    "    if i < 10:  # show only first 10\n",
    "        print(f\"{code}: {name}\")\n"
   ]
  },
  {
   "cell_type": "code",
   "execution_count": 3,
   "id": "51235cea-aaa5-491b-810f-5c21c0469df7",
   "metadata": {},
   "outputs": [
    {
     "name": "stdout",
     "output_type": "stream",
     "text": [
      "Original text: Hola mundo\n",
      "Detected language: es\n",
      "Translated text: Hello world\n"
     ]
    }
   ],
   "source": [
    "def detect_and_translate(text, target_lang='en'):\n",
    "    \"\"\"\n",
    "    Detect language and translate text to target_lang.\n",
    "    \"\"\"\n",
    "    detected_lang = detect(text)\n",
    "    translated_text = translator.translate(text, dest=target_lang).text\n",
    "    return detected_lang, translated_text\n",
    "\n",
    "# Example usage\n",
    "text = \"Hola mundo\"\n",
    "detected, translated = detect_and_translate(text, \"en\")\n",
    "print(\"Original text:\", text)\n",
    "print(\"Detected language:\", detected)\n",
    "print(\"Translated text:\", translated)\n"
   ]
  },
  {
   "cell_type": "code",
   "execution_count": 4,
   "id": "37814033-fef1-4a29-b63b-e1c76002139f",
   "metadata": {},
   "outputs": [
    {
     "name": "stdout",
     "output_type": "stream",
     "text": [
      "Original: Bonjour tout le monde\n",
      "Detected: fr\n",
      "Translated: Hello everyone\n",
      "\n",
      "Original: Hola mundo\n",
      "Detected: es\n",
      "Translated: Hello world\n",
      "\n",
      "Original: Hallo Welt\n",
      "Detected: de\n",
      "Translated: Hello World\n",
      "\n"
     ]
    }
   ],
   "source": [
    "texts = [\"Bonjour tout le monde\", \"Hola mundo\", \"Hallo Welt\"]\n",
    "target_lang = \"en\"\n",
    "\n",
    "for t in texts:\n",
    "    detected, translated = detect_and_translate(t, target_lang)\n",
    "    print(f\"Original: {t}\")\n",
    "    print(f\"Detected: {detected}\")\n",
    "    print(f\"Translated: {translated}\\n\")\n"
   ]
  },
  {
   "cell_type": "code",
   "execution_count": 6,
   "id": "9824dfaa-6757-4c31-9c85-dc448aaaf3e5",
   "metadata": {},
   "outputs": [
    {
     "name": "stdout",
     "output_type": "stream",
     "text": [
      "Enter text to translate:    Bonjour amis\n",
      "Enter target language code (like 'en', 'fr', 'de'):  en\n"
     ]
    },
    {
     "name": "stdout",
     "output_type": "stream",
     "text": [
      "Detected language: fr\n",
      "Translated text: Hello friends\n"
     ]
    }
   ],
   "source": [
    "text_input = input(\"Enter text to translate: \")\n",
    "target_language = input(\"Enter target language code (like 'en', 'fr', 'de'): \")\n",
    "\n",
    "detected, translated = detect_and_translate(text_input, target_language)\n",
    "print(\"Detected language:\", detected)\n",
    "print(\"Translated text:\", translated)\n"
   ]
  },
  {
   "cell_type": "code",
   "execution_count": 7,
   "id": "c5f5b372-6368-48eb-a0a6-b07590097272",
   "metadata": {},
   "outputs": [
    {
     "name": "stdout",
     "output_type": "stream",
     "text": [
      "All available language codes and names:\n",
      "af: afrikaans\n",
      "sq: albanian\n",
      "am: amharic\n",
      "ar: arabic\n",
      "hy: armenian\n",
      "az: azerbaijani\n",
      "eu: basque\n",
      "be: belarusian\n",
      "bn: bengali\n",
      "bs: bosnian\n",
      "bg: bulgarian\n",
      "ca: catalan\n",
      "ceb: cebuano\n",
      "ny: chichewa\n",
      "zh-cn: chinese (simplified)\n",
      "zh-tw: chinese (traditional)\n",
      "co: corsican\n",
      "hr: croatian\n",
      "cs: czech\n",
      "da: danish\n",
      "nl: dutch\n",
      "en: english\n",
      "eo: esperanto\n",
      "et: estonian\n",
      "tl: filipino\n",
      "fi: finnish\n",
      "fr: french\n",
      "fy: frisian\n",
      "gl: galician\n",
      "ka: georgian\n",
      "de: german\n",
      "el: greek\n",
      "gu: gujarati\n",
      "ht: haitian creole\n",
      "ha: hausa\n",
      "haw: hawaiian\n",
      "iw: hebrew\n",
      "he: hebrew\n",
      "hi: hindi\n",
      "hmn: hmong\n",
      "hu: hungarian\n",
      "is: icelandic\n",
      "ig: igbo\n",
      "id: indonesian\n",
      "ga: irish\n",
      "it: italian\n",
      "ja: japanese\n",
      "jw: javanese\n",
      "kn: kannada\n",
      "kk: kazakh\n",
      "km: khmer\n",
      "ko: korean\n",
      "ku: kurdish (kurmanji)\n",
      "ky: kyrgyz\n",
      "lo: lao\n",
      "la: latin\n",
      "lv: latvian\n",
      "lt: lithuanian\n",
      "lb: luxembourgish\n",
      "mk: macedonian\n",
      "mg: malagasy\n",
      "ms: malay\n",
      "ml: malayalam\n",
      "mt: maltese\n",
      "mi: maori\n",
      "mr: marathi\n",
      "mn: mongolian\n",
      "my: myanmar (burmese)\n",
      "ne: nepali\n",
      "no: norwegian\n",
      "or: odia\n",
      "ps: pashto\n",
      "fa: persian\n",
      "pl: polish\n",
      "pt: portuguese\n",
      "pa: punjabi\n",
      "ro: romanian\n",
      "ru: russian\n",
      "sm: samoan\n",
      "gd: scots gaelic\n",
      "sr: serbian\n",
      "st: sesotho\n",
      "sn: shona\n",
      "sd: sindhi\n",
      "si: sinhala\n",
      "sk: slovak\n",
      "sl: slovenian\n",
      "so: somali\n",
      "es: spanish\n",
      "su: sundanese\n",
      "sw: swahili\n",
      "sv: swedish\n",
      "tg: tajik\n",
      "ta: tamil\n",
      "te: telugu\n",
      "th: thai\n",
      "tr: turkish\n",
      "uk: ukrainian\n",
      "ur: urdu\n",
      "ug: uyghur\n",
      "uz: uzbek\n",
      "vi: vietnamese\n",
      "cy: welsh\n",
      "xh: xhosa\n",
      "yi: yiddish\n",
      "yo: yoruba\n",
      "zu: zulu\n"
     ]
    }
   ],
   "source": [
    "print(\"All available language codes and names:\")\n",
    "for code, name in LANGUAGES.items():\n",
    "    print(f\"{code}: {name}\")\n"
   ]
  },
  {
   "cell_type": "code",
   "execution_count": null,
   "id": "04190d7e-a63c-45cd-ac25-ae4f8b8ecc1e",
   "metadata": {},
   "outputs": [],
   "source": []
  }
 ],
 "metadata": {
  "kernelspec": {
   "display_name": "Python (venv)",
   "language": "python",
   "name": "venv"
  },
  "language_info": {
   "codemirror_mode": {
    "name": "ipython",
    "version": 3
   },
   "file_extension": ".py",
   "mimetype": "text/x-python",
   "name": "python",
   "nbconvert_exporter": "python",
   "pygments_lexer": "ipython3",
   "version": "3.11.9"
  }
 },
 "nbformat": 4,
 "nbformat_minor": 5
}
